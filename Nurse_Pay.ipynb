{
 "cells": [
  {
   "cell_type": "code",
   "execution_count": null,
   "id": "d026d211",
   "metadata": {},
   "outputs": [],
   "source": [
    "# Dependencies and Setup\n",
    "import matplotlib.pyplot as plt\n",
    "import pandas as pd\n",
    "import numpy as np\n",
    "import requests\n",
    "import time\n",
    "from scipy.stats import linregress\n"
   ]
  },
  {
   "cell_type": "code",
   "execution_count": null,
   "id": "3782c505",
   "metadata": {},
   "outputs": [],
   "source": [
    "# find and read the data file, api or csv? \n",
    "# using watson_healthcare_modified.csv\n"
   ]
  },
  {
   "cell_type": "code",
   "execution_count": null,
   "id": "f04b887e",
   "metadata": {},
   "outputs": [],
   "source": [
    "# pull/sort the data needed;\n",
    "employee_id = [] # to verify no duplicates\n",
    "attrition = [] # wether still working or not\n",
    "job_role = [] # be sure we are using only nurses\n",
    "monthly_income = [] #use this as base pay\n",
    "percent_salary_hike = [] # us for recent pay raises\n",
    "business_travel = [] # travel_rarely considered full-time, travel_frequently considered part-time or travel nurses\n",
    "\n"
   ]
  },
  {
   "cell_type": "code",
   "execution_count": null,
   "id": "88c7ca9d",
   "metadata": {},
   "outputs": [],
   "source": [
    "# setup dataframe with data retrieved\n"
   ]
  },
  {
   "cell_type": "code",
   "execution_count": null,
   "id": "cf41e719",
   "metadata": {},
   "outputs": [],
   "source": [
    "# analyze data with plots of the following;\n",
    "# pie chart - ft vs pt\n",
    "# bar chart - attrition vs type (ft and pt)\n",
    "# bar chart - salary vs attrition vs type (ft / pt)\n",
    "\n"
   ]
  },
  {
   "cell_type": "code",
   "execution_count": null,
   "id": "7c7c3e61",
   "metadata": {},
   "outputs": [],
   "source": []
  }
 ],
 "metadata": {
  "kernelspec": {
   "display_name": "Python 3 (ipykernel)",
   "language": "python",
   "name": "python3"
  },
  "language_info": {
   "codemirror_mode": {
    "name": "ipython",
    "version": 3
   },
   "file_extension": ".py",
   "mimetype": "text/x-python",
   "name": "python",
   "nbconvert_exporter": "python",
   "pygments_lexer": "ipython3",
   "version": "3.9.13"
  }
 },
 "nbformat": 4,
 "nbformat_minor": 5
}
